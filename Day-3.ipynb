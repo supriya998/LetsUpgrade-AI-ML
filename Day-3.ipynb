{
 "cells": [
  {
   "cell_type": "markdown",
   "metadata": {},
   "source": [
    "1)Write a program to subtract two complex numbers in Python."
   ]
  },
  {
   "cell_type": "code",
   "execution_count": 2,
   "metadata": {},
   "outputs": [
    {
     "name": "stdout",
     "output_type": "stream",
     "text": [
      "Enter real value of complex no.1: 3\n",
      "Enter imaginary value of complex no.1: 5\n",
      "Enter real value of complex no.2: 1\n",
      "Enter imaginary value of complex no.2: 3\n",
      "Difference of complex numbers:  (2+2j)\n"
     ]
    }
   ],
   "source": [
    "a = int(input(\"Enter real value of complex no.1: \"))\n",
    "b = int(input(\"Enter imaginary value of complex no.1: \"))\n",
    "c = int(input(\"Enter real value of complex no.2: \"))\n",
    "d = int(input(\"Enter imaginary value of complex no.2: \"))\n",
    "z1 = complex(a,b)\n",
    "z2 = complex(c,d)\n",
    "print(\"Difference of complex numbers:\",(z1-z2))"
   ]
  },
  {
   "cell_type": "markdown",
   "metadata": {},
   "source": [
    "2)Write a program to find the fourth root of a number."
   ]
  },
  {
   "cell_type": "code",
   "execution_count": 3,
   "metadata": {},
   "outputs": [
    {
     "name": "stdout",
     "output_type": "stream",
     "text": [
      "Enter an integer: 16\n",
      "Fourth root of 16 is: 2.0\n"
     ]
    }
   ],
   "source": [
    "n = int(input(\"Enter an integer: \"))\n",
    "value = pow(n,0.25)\n",
    "print(\"Fourth root of\",n,\"is:\",value)"
   ]
  },
  {
   "cell_type": "markdown",
   "metadata": {},
   "source": [
    "3)Write a program to swap two numbers in Python with the help of a temporary variable."
   ]
  },
  {
   "cell_type": "code",
   "execution_count": 4,
   "metadata": {},
   "outputs": [
    {
     "name": "stdout",
     "output_type": "stream",
     "text": [
      "Enter first value: 2\n",
      "Enter second number: 3\n",
      "Values before swapping: 2 and 3\n",
      "Values after swapping: 3 and 2\n"
     ]
    }
   ],
   "source": [
    "n = int(input(\"Enter first value: \"))\n",
    "m = int(input(\"Enter second number: \"))\n",
    "print(\"Values before swapping:\",n,\"and\",m)\n",
    "t = n\n",
    "n = m\n",
    "m = t\n",
    "print(\"Values after swapping:\",n,\"and\",m)"
   ]
  },
  {
   "cell_type": "markdown",
   "metadata": {},
   "source": [
    "4)Write a program to swap two numbers in Python without using a temporary variable."
   ]
  },
  {
   "cell_type": "code",
   "execution_count": 5,
   "metadata": {},
   "outputs": [
    {
     "name": "stdout",
     "output_type": "stream",
     "text": [
      "Enter first value: 10\n",
      "Enter second number: 20\n",
      "Values before swapping: 10 and 20\n",
      "Values after swapping: 20 and 10\n"
     ]
    }
   ],
   "source": [
    "n = int(input(\"Enter first value: \"))\n",
    "m = int(input(\"Enter second number: \"))\n",
    "print(\"Values before swapping:\",n,\"and\",m)\n",
    "n , m = m , n\n",
    "print(\"Values after swapping:\",n,\"and\",m)"
   ]
  },
  {
   "cell_type": "markdown",
   "metadata": {},
   "source": [
    "5)Write a program to convert fahrenheit to kelvin and celsius both."
   ]
  },
  {
   "cell_type": "code",
   "execution_count": 8,
   "metadata": {},
   "outputs": [
    {
     "name": "stdout",
     "output_type": "stream",
     "text": [
      "Enter temperature in Fahrenheit: 36\n",
      "Temperature in Celsius: 2.2222222222222223\n",
      "Temperature in Kelvin: 275.3722222222222\n"
     ]
    }
   ],
   "source": [
    "f = int(input(\"Enter temperature in Fahrenheit: \"))\n",
    "c = (f - 32) * (5/9)\n",
    "k =  (f - 32) * (5/9) + 273.15\n",
    "print(\"Temperature in Celsius:\",c)\n",
    "print(\"Temperature in Kelvin:\",k)"
   ]
  },
  {
   "cell_type": "markdown",
   "metadata": {},
   "source": [
    "6)Write a program to demonstrate all the available data types in Python. Hint: Use type() function."
   ]
  },
  {
   "cell_type": "code",
   "execution_count": 12,
   "metadata": {},
   "outputs": [
    {
     "name": "stdout",
     "output_type": "stream",
     "text": [
      "Type of a: <class 'int'>\n",
      "Type of b: <class 'bool'>\n",
      "Type of c: <class 'float'>\n",
      "Type of d: <class 'complex'>\n",
      "Type of e: <class 'str'>\n",
      "Type of f: <class 'list'>\n",
      "Type of g: <class 'tuple'>\n",
      "Type of h: <class 'set'>\n",
      "Type of i: <class 'dict'>\n"
     ]
    }
   ],
   "source": [
    "a = 10\n",
    "b = True\n",
    "c = 12.5\n",
    "d = 1 + 2j\n",
    "e = \"Supriya\"\n",
    "f = [1220,\"Supriya\",95.5]\n",
    "g = (1,2,3,4)\n",
    "h = {1,2,3,4,5}\n",
    "i = {\"pet\":\"dog\",\"wild\":\"lion\",\"domestic\":\"cow\"}\n",
    "print(\"Type of a:\",type(a))\n",
    "print(\"Type of b:\",type(b))\n",
    "print(\"Type of c:\",type(c))\n",
    "print(\"Type of d:\",type(d))\n",
    "print(\"Type of e:\",type(e))\n",
    "print(\"Type of f:\",type(f))\n",
    "print(\"Type of g:\",type(g))\n",
    "print(\"Type of h:\",type(h))\n",
    "print(\"Type of i:\",type(i))"
   ]
  },
  {
   "cell_type": "markdown",
   "metadata": {},
   "source": [
    "7)Create a Markdown cell in jupyter and list the steps discussed in the session by Dr. Darshan Ingle sir to create Github profile and upload Githubs Assignment link."
   ]
  },
  {
   "cell_type": "markdown",
   "metadata": {},
   "source": [
    "Ans) 1)Signin to your github account. If you are not having the account then firstly create your github account.\n",
    "     2)Create a new Repository and name it as \"LetsUpgrade AI/ML\".\n",
    "     3)Add a description.\n",
    "     4)And make your repository public and create that repository.\n",
    "     5)Later upload an existing file that is your assignment file.\n",
    "     6)Drag your files there and commit the changes.\n",
    "     7)Then copy the link of the file and then submit that link in the given form.\n",
    "     8)For checking you can paste the link in an incognito tab.If it opens there then it says that your assignment is made        public."
   ]
  }
 ],
 "metadata": {
  "kernelspec": {
   "display_name": "Python 3",
   "language": "python",
   "name": "python3"
  },
  "language_info": {
   "codemirror_mode": {
    "name": "ipython",
    "version": 3
   },
   "file_extension": ".py",
   "mimetype": "text/x-python",
   "name": "python",
   "nbconvert_exporter": "python",
   "pygments_lexer": "ipython3",
   "version": "3.7.4"
  }
 },
 "nbformat": 4,
 "nbformat_minor": 2
}
