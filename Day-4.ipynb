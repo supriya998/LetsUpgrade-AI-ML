{
 "cells": [
  {
   "cell_type": "markdown",
   "metadata": {},
   "source": [
    "___1)Research on whether addition, subtraction, multiplication, division, floor division and modulo\n",
    "operations be performed on complex numbers. Based on your study, implement a Python\n",
    "program to demonstrate these operations."
   ]
  },
  {
   "cell_type": "code",
   "execution_count": 8,
   "metadata": {},
   "outputs": [
    {
     "name": "stdout",
     "output_type": "stream",
     "text": [
      "Enter real part value of first complex number: 3\n",
      "Enter imaginary part value of first complex number: 2\n",
      "Enter real part value of second complex number: 1\n",
      "Enter imaginary part value of second complex number: 2\n",
      "Addition of two complex numbers: (4+4j)\n",
      "Subtraction of two complex numbers: (2+0j)\n",
      "Multiplicaion of two complex numbers: (-1+8j)\n",
      "Division of two complex numbers: (1.4-0.8j)\n"
     ]
    },
    {
     "data": {
      "text/plain": [
       "'Floor division and modulo operator operations are not possible to perform on complex numbers..'"
      ]
     },
     "execution_count": 8,
     "metadata": {},
     "output_type": "execute_result"
    }
   ],
   "source": [
    "a = int(input(\"Enter real part value of first complex number: \"))\n",
    "b = int(input(\"Enter imaginary part value of first complex number: \"))\n",
    "c = int(input(\"Enter real part value of second complex number: \"))\n",
    "d = int(input(\"Enter imaginary part value of second complex number: \"))\n",
    "z1 = complex(a,b)\n",
    "z2 = complex(c,d)\n",
    "print(\"Addition of two complex numbers:\",(z1+z2))\n",
    "print(\"Subtraction of two complex numbers:\",(z1-z2))\n",
    "print(\"Multiplicaion of two complex numbers:\",(z1*z2))\n",
    "print(\"Division of two complex numbers:\",(z1/z2))\n",
    "#print(\"Floor Division of two complex numbers:\",(z1//2))\n",
    "#print(\"Modulo of two complex numbers:\",(z1%z2))\n",
    "\n",
    "'''Floor division and modulo operator operations are not possible to perform on complex numbers..'''"
   ]
  },
  {
   "cell_type": "markdown",
   "metadata": {},
   "source": [
    "___2)Research on range() functions and its parameters. Create a markdown cell and write in your own\n",
    "words (no copy-paste from google please) what you understand about it. Implement a small\n",
    "program of your choice on the same."
   ]
  },
  {
   "cell_type": "markdown",
   "metadata": {},
   "source": [
    "Range:  This function returns a sequence of numbers, starting from 0, and increments by 1, and stops before a specified number.\n",
    "syntax: range(start,stop,step)\n",
    "we can mention step or not. It is optional.\n",
    "If we didnot mention step,it defaultly takes 1."
   ]
  },
  {
   "cell_type": "code",
   "execution_count": 10,
   "metadata": {},
   "outputs": [
    {
     "name": "stdout",
     "output_type": "stream",
     "text": [
      "Enter stop value: 10\n",
      "1\n",
      "2\n",
      "3\n",
      "4\n",
      "5\n",
      "6\n",
      "7\n",
      "8\n",
      "9\n",
      "10\n"
     ]
    }
   ],
   "source": [
    "n = int(input(\"Enter stop value: \"))\n",
    "for i in range(1,n+1):\n",
    "    print(i)"
   ]
  },
  {
   "cell_type": "markdown",
   "metadata": {},
   "source": [
    "___3)Consider two numbers. Perform their subtraction and if the result of subtraction is greater than\n",
    "25, print their multiplication result else print their division result."
   ]
  },
  {
   "cell_type": "code",
   "execution_count": 13,
   "metadata": {},
   "outputs": [
    {
     "name": "stdout",
     "output_type": "stream",
     "text": [
      "Enter first number: 100\n",
      "Enter Second number: 10\n",
      "Product: 1000\n"
     ]
    }
   ],
   "source": [
    "a = int(input(\"Enter first number: \"))\n",
    "b = int(input(\"Enter Second number: \"))\n",
    "diff = a-b\n",
    "if diff > 75:\n",
    "    print(\"Product:\",(a*b))\n",
    "else :\n",
    "    print(\"Division result:\",(a/b))"
   ]
  },
  {
   "cell_type": "markdown",
   "metadata": {},
   "source": [
    "___4)Consider a list of 10 elements of integer values. If the number in the list is divisible by 2, print the\n",
    "result as \"square of that number minus 2\"."
   ]
  },
  {
   "cell_type": "code",
   "execution_count": 14,
   "metadata": {},
   "outputs": [
    {
     "name": "stdout",
     "output_type": "stream",
     "text": [
      "2\n",
      "14\n",
      "34\n",
      "62\n",
      "98\n"
     ]
    }
   ],
   "source": [
    "li = [1,2,3,4,5,6,7,8,9,10]\n",
    "for i in li:\n",
    "    if i%2 == 0:\n",
    "        print((i**2)-2)"
   ]
  },
  {
   "cell_type": "markdown",
   "metadata": {},
   "source": [
    "___5)Consider a list of 10 elements. Print all the elements in the list which are greater than 7 when that\n",
    "number is divided 2."
   ]
  },
  {
   "cell_type": "code",
   "execution_count": 15,
   "metadata": {},
   "outputs": [
    {
     "name": "stdout",
     "output_type": "stream",
     "text": [
      "8\n",
      "10\n",
      "12\n"
     ]
    }
   ],
   "source": [
    "li = [2,3,4,5,6,7,8,9,10,12]\n",
    "for i in li:\n",
    "    n = i // 2\n",
    "    if n > 7:\n",
    "        print(i)"
   ]
  }
 ],
 "metadata": {
  "kernelspec": {
   "display_name": "Python 3",
   "language": "python",
   "name": "python3"
  },
  "language_info": {
   "codemirror_mode": {
    "name": "ipython",
    "version": 3
   },
   "file_extension": ".py",
   "mimetype": "text/x-python",
   "name": "python",
   "nbconvert_exporter": "python",
   "pygments_lexer": "ipython3",
   "version": "3.7.4"
  }
 },
 "nbformat": 4,
 "nbformat_minor": 2
}
