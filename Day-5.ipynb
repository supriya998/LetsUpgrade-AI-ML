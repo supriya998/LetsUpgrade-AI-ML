{
 "cells": [
  {
   "cell_type": "markdown",
   "metadata": {},
   "source": [
    "___1)Write a Python program to find the first 20 non-even prime natural numbers."
   ]
  },
  {
   "cell_type": "code",
   "execution_count": 1,
   "metadata": {},
   "outputs": [
    {
     "name": "stdout",
     "output_type": "stream",
     "text": [
      "First 20 non-even prime numbers:\n",
      "3 5 7 11 13 17 19 23 29 31 37 41 43 47 53 59 61 67 71 73 "
     ]
    }
   ],
   "source": [
    "def isPrime(n):\n",
    "    c = 0\n",
    "    for i in range(1,n+1):\n",
    "        if n % i == 0:\n",
    "            c += 1\n",
    "    if c == 2:\n",
    "        return True\n",
    "    return False\n",
    "\n",
    "c = 0\n",
    "i = 1\n",
    "print(\"First 20 non-even prime numbers:\")\n",
    "while(c < 20):\n",
    "    if i % 2 != 0:\n",
    "        if isPrime(i):\n",
    "            c += 1\n",
    "            print(i,end = \" \")\n",
    "    i += 1"
   ]
  },
  {
   "cell_type": "markdown",
   "metadata": {},
   "source": [
    "___2)Write a Python program to implement 15 functions of string."
   ]
  },
  {
   "cell_type": "code",
   "execution_count": 2,
   "metadata": {},
   "outputs": [
    {
     "name": "stdout",
     "output_type": "stream",
     "text": [
      "Capitalizing a string: Supriya\n",
      "Counting specific character: 2\n",
      "Finding position of a character: 2\n",
      "All letters are in lower case: True\n",
      "Swapping case: SUPRIYA\n",
      "Index of particular letter: 3\n",
      "Splitting the string at a particular character: ['Python is easy', 'highlevel language']\n",
      "All the characters are spaces: True\n",
      "The string starts with the particular letter: True\n",
      "All the characters in the string are alphabetics: True\n",
      "The string ends with particular word or character: True\n",
      "Replacing one word or character with other in the given string: Python is easy,highlevel programming language\n",
      "Partitioning string at a particular character or word which gives a tuple: ('I could eat bananas all day, ', 'bananas', ' are my favorite fruit')\n",
      "Splitting the string at the place of new line: ['Learning AI-ML in Lets upgrade is very interesting.', 'They teach very well and I find that my basics are getting stronger']\n",
      "Formatting the string: These apples are just 49.00 rupees!!\n"
     ]
    }
   ],
   "source": [
    "str1 = \"santoshi\"\n",
    "str2 = \"supriya\"\n",
    "caps = str2.capitalize()\n",
    "count = str1.count(\"s\")\n",
    "pos = str2.find(\"p\")\n",
    "lower = str1.islower()\n",
    "swap = str2.swapcase()\n",
    "rin = str1.rindex(\"t\")\n",
    "\n",
    "str3 = \"Python is easy,highlevel language\"\n",
    "sp = str3.split(\",\")\n",
    "\n",
    "str4 = \"           \"\n",
    "space = str4.isspace()\n",
    "starts = str3.startswith(\"P\")\n",
    "alpha = str2.isalpha()\n",
    "end = str3.endswith(\"language\")\n",
    "rep = str3.replace(\"language\",\"programming language\")\n",
    "\n",
    "str4 = \"I could eat bananas all day, bananas are my favorite fruit\"\n",
    "part = str4.rpartition(\"bananas\")\n",
    "\n",
    "str5 = \"Learning AI-ML in Lets upgrade is very interesting.\\nThey teach very well and I find that my basics are getting stronger\"\n",
    "line = str5.splitlines()\n",
    "\n",
    "str6 = \"These apples are just {price:.2f} rupees!!\"\n",
    "priceformat = str6.format(price = 49)\n",
    "\n",
    "print(\"Capitalizing a string:\",caps)\n",
    "print(\"Counting specific character:\",count)\n",
    "print(\"Finding position of a character:\",pos)\n",
    "print(\"All letters are in lower case:\",lower)\n",
    "print(\"Swapping case:\",swap)\n",
    "print(\"Index of particular letter:\",rin)\n",
    "print(\"Splitting the string at a particular character:\",sp)\n",
    "print(\"All the characters are spaces:\",space)\n",
    "print(\"The string starts with the particular letter:\",starts)\n",
    "print(\"All the characters in the string are alphabetics:\",alpha)\n",
    "print(\"The string ends with particular word or character:\",end)\n",
    "print(\"Replacing one word or character with other in the given string:\",rep)\n",
    "print(\"Partitioning string at a particular character or word which gives a tuple:\",part)\n",
    "print(\"Splitting the string at the place of new line:\",line)\n",
    "print(\"Formatting the string:\",priceformat)"
   ]
  },
  {
   "cell_type": "markdown",
   "metadata": {},
   "source": [
    "___3)Write a Python program to check if the given string is a Palindrome or Anagram or None of them.\n",
    "Display the message accordingly to the user."
   ]
  },
  {
   "cell_type": "code",
   "execution_count": 3,
   "metadata": {},
   "outputs": [
    {
     "name": "stdout",
     "output_type": "stream",
     "text": [
      "racecar\n",
      "acercar\n",
      "racecar is palindrome\n",
      "racecar and acercar are anagrams\n"
     ]
    }
   ],
   "source": [
    "def isPalindrome(str):\n",
    "    rev = str[::-1]\n",
    "    if rev == str:\n",
    "        return True\n",
    "    return False\n",
    "\n",
    "def isAnagram(str1,str2):\n",
    "    li1 = []\n",
    "    for i in str1:\n",
    "        li1.append(i)\n",
    "    li2 = []\n",
    "    for i in str2:\n",
    "        li2.append(i)\n",
    "    li1.sort()\n",
    "    li2.sort()\n",
    "    if li1 == li2:\n",
    "        return True\n",
    "    return False\n",
    "\n",
    "str1 = input()\n",
    "str2 = input()\n",
    "if isPalindrome(str1) or isAnagram(str1,str2):\n",
    "    if isPalindrome(str1):\n",
    "        print(str1,\"is palindrome\")\n",
    "    if isAnagram(str1,str2):\n",
    "        print(str1,\"and\",str2,\"are anagrams\")\n",
    "else:\n",
    "    print(\"The given strings are neither palindromes or anagrams\")"
   ]
  },
  {
   "cell_type": "markdown",
   "metadata": {},
   "source": [
    "___4)Write a Python's user defined function that removes all the additional characters from the string\n",
    "and converts it finally to lower case using built-in lower(). eg: If the string is \"Dr. Darshan Ingle@AI-ML Trainer\", then the output be \"drdarshaningleaimltrainer\"."
   ]
  },
  {
   "cell_type": "code",
   "execution_count": 4,
   "metadata": {},
   "outputs": [
    {
     "name": "stdout",
     "output_type": "stream",
     "text": [
      "drdarshaningleaimltrainer\n"
     ]
    }
   ],
   "source": [
    "def removeAdditionalCharacter(str):\n",
    "    if str.isalpha():\n",
    "        str.lower()\n",
    "        return str\n",
    "    else :\n",
    "        lowerstr = str.lower()\n",
    "        newstr = \"\"\n",
    "        for i in lowerstr:\n",
    "            if ord(i) >= 97 and ord(i) <= 122:\n",
    "                newstr += i\n",
    "        return newstr\n",
    "\n",
    "str = \"Dr. Darshan Ingle@AI-ML Trainer\"\n",
    "print(removeAdditionalCharacter(str))"
   ]
  }
 ],
 "metadata": {
  "kernelspec": {
   "display_name": "Python 3",
   "language": "python",
   "name": "python3"
  },
  "language_info": {
   "codemirror_mode": {
    "name": "ipython",
    "version": 3
   },
   "file_extension": ".py",
   "mimetype": "text/x-python",
   "name": "python",
   "nbconvert_exporter": "python",
   "pygments_lexer": "ipython3",
   "version": "3.7.4"
  }
 },
 "nbformat": 4,
 "nbformat_minor": 2
}
