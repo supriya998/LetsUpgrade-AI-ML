{
 "cells": [
  {
   "cell_type": "markdown",
   "metadata": {},
   "source": [
    "# 1. Create a 3x3x3 array with random values "
   ]
  },
  {
   "cell_type": "code",
   "execution_count": 11,
   "metadata": {},
   "outputs": [
    {
     "data": {
      "text/plain": [
       "array([[[0.4163597 , 0.89084324, 0.55969802],\n",
       "        [0.68103243, 0.21453623, 0.87509434],\n",
       "        [0.48193575, 0.78506111, 0.97798619]],\n",
       "\n",
       "       [[0.94923898, 0.24902348, 0.85356251],\n",
       "        [0.87338679, 0.5681179 , 0.43900865],\n",
       "        [0.24328422, 0.43772985, 0.53713204]],\n",
       "\n",
       "       [[0.20000544, 0.42212932, 0.76480286],\n",
       "        [0.23035461, 0.43922738, 0.68573253],\n",
       "        [0.94346385, 0.29357559, 0.54948465]]])"
      ]
     },
     "execution_count": 11,
     "metadata": {},
     "output_type": "execute_result"
    }
   ],
   "source": [
    "import numpy as np\n",
    "np.random.random((3,3,3))"
   ]
  },
  {
   "cell_type": "markdown",
   "metadata": {},
   "source": [
    "# 2.Create a 5x5 matrix with values 1,2,3,4 just below the diagonal"
   ]
  },
  {
   "cell_type": "code",
   "execution_count": 17,
   "metadata": {},
   "outputs": [
    {
     "data": {
      "text/plain": [
       "array([[0, 0, 0, 0, 0],\n",
       "       [1, 0, 0, 0, 0],\n",
       "       [0, 2, 0, 0, 0],\n",
       "       [0, 0, 3, 0, 0],\n",
       "       [0, 0, 0, 4, 0]])"
      ]
     },
     "execution_count": 17,
     "metadata": {},
     "output_type": "execute_result"
    }
   ],
   "source": [
    "np.diag(1+np.arange(4),-1)"
   ]
  },
  {
   "cell_type": "markdown",
   "metadata": {},
   "source": [
    "# 3.Create a 8x8 matrix and fill it with a checkerboard pattern"
   ]
  },
  {
   "cell_type": "code",
   "execution_count": 20,
   "metadata": {},
   "outputs": [
    {
     "data": {
      "text/plain": [
       "array([[0, 1, 0, 1, 0, 1, 0, 1],\n",
       "       [1, 0, 1, 0, 1, 0, 1, 0],\n",
       "       [0, 1, 0, 1, 0, 1, 0, 1],\n",
       "       [1, 0, 1, 0, 1, 0, 1, 0],\n",
       "       [0, 1, 0, 1, 0, 1, 0, 1],\n",
       "       [1, 0, 1, 0, 1, 0, 1, 0],\n",
       "       [0, 1, 0, 1, 0, 1, 0, 1],\n",
       "       [1, 0, 1, 0, 1, 0, 1, 0]])"
      ]
     },
     "execution_count": 20,
     "metadata": {},
     "output_type": "execute_result"
    }
   ],
   "source": [
    "checker = np.zeros((8,8),dtype = int)\n",
    "checker[1::2,::2] = 1\n",
    "checker[::2,1::2] = 1\n",
    "checker"
   ]
  },
  {
   "cell_type": "markdown",
   "metadata": {},
   "source": [
    "# 4. Normalize a 5x5 random matrix"
   ]
  },
  {
   "cell_type": "code",
   "execution_count": 21,
   "metadata": {},
   "outputs": [
    {
     "name": "stdout",
     "output_type": "stream",
     "text": [
      "[[0.60026669 0.95630926 0.39335231 0.63064963 0.23667725]\n",
      " [0.65125328 0.48546028 0.51371593 0.05687539 0.02529844]\n",
      " [0.27543017 1.         0.81077213 0.13574014 0.55973889]\n",
      " [0.57470803 0.97315015 0.95039225 0.         0.3897519 ]\n",
      " [0.02143751 0.19279172 0.43104674 0.00429931 0.68107273]]\n"
     ]
    }
   ],
   "source": [
    "N = np.random.random((5,5))\n",
    "Nmax, Nmin = N.max(), N.min()\n",
    "N = (N - Nmin)/(Nmax - Nmin)\n",
    "print(N)"
   ]
  },
  {
   "cell_type": "markdown",
   "metadata": {},
   "source": [
    "# 5.  How to find common values between two arrays?"
   ]
  },
  {
   "cell_type": "code",
   "execution_count": 26,
   "metadata": {},
   "outputs": [
    {
     "name": "stdout",
     "output_type": "stream",
     "text": [
      "[ 0  3 11]\n"
     ]
    }
   ],
   "source": [
    "array1 = np.random.randint(0,15,10)\n",
    "array2 = np.random.randint(0,15,10)\n",
    "print(np.intersect1d(array1,array2))"
   ]
  },
  {
   "cell_type": "markdown",
   "metadata": {},
   "source": [
    "# 6.How to get the dates of yesterday, today and tomorrow?"
   ]
  },
  {
   "cell_type": "code",
   "execution_count": 34,
   "metadata": {},
   "outputs": [
    {
     "name": "stdout",
     "output_type": "stream",
     "text": [
      "Yesterday: 2020-07-27 Today: 2020-07-28 Tomorrow: 2020-07-29\n"
     ]
    }
   ],
   "source": [
    "yesterday = np.datetime64('today') - np.timedelta64(1)\n",
    "today = np.datetime64('today')\n",
    "tomorrow = np.datetime64('today') + np.timedelta64(1)\n",
    "print(\"Yesterday:\",yesterday,\"Today:\",today,\"Tomorrow:\",tomorrow)"
   ]
  },
  {
   "cell_type": "markdown",
   "metadata": {},
   "source": [
    "# 7. Consider two random array A and B, check if they are equal"
   ]
  },
  {
   "cell_type": "code",
   "execution_count": 40,
   "metadata": {},
   "outputs": [
    {
     "data": {
      "text/plain": [
       "False"
      ]
     },
     "execution_count": 40,
     "metadata": {},
     "output_type": "execute_result"
    }
   ],
   "source": [
    "array1 = np.random.randint(0,10,10)\n",
    "array2 = np.random.randint(0,10,10)\n",
    "eq = np.allclose(array1,array2)\n",
    "eq"
   ]
  },
  {
   "cell_type": "markdown",
   "metadata": {},
   "source": [
    "# 8.Create random vector of size 10 and replace the maximum value by 0 "
   ]
  },
  {
   "cell_type": "code",
   "execution_count": 44,
   "metadata": {},
   "outputs": [
    {
     "data": {
      "text/plain": [
       "array([0.12974955, 0.5632903 , 0.97240183, 0.        , 0.67592468,\n",
       "       0.09079965, 0.04192112, 0.5039984 , 0.84932592, 0.20712432])"
      ]
     },
     "execution_count": 44,
     "metadata": {},
     "output_type": "execute_result"
    }
   ],
   "source": [
    "vector = np.random.random((10))\n",
    "vector\n",
    "max = vector.argmax()\n",
    "vector[max] = 0\n",
    "vector"
   ]
  },
  {
   "cell_type": "markdown",
   "metadata": {},
   "source": [
    "# 9. How to print all the values of an array?"
   ]
  },
  {
   "cell_type": "code",
   "execution_count": 45,
   "metadata": {},
   "outputs": [
    {
     "name": "stdout",
     "output_type": "stream",
     "text": [
      "[[0.68416473 0.23772438 0.85408768 0.76238531 0.81125505 0.73170118\n",
      "  0.37654989 0.20511552 0.6536116  0.47080255]\n",
      " [0.75371309 0.2035814  0.37260215 0.7440034  0.28741838 0.44235216\n",
      "  0.27847754 0.45644191 0.73249826 0.90951628]\n",
      " [0.53436141 0.13467191 0.1462021  0.22332249 0.27570271 0.45053062\n",
      "  0.56746336 0.78437505 0.3928099  0.9261345 ]\n",
      " [0.57953006 0.36047622 0.55602306 0.76167811 0.85552107 0.52616474\n",
      "  0.79929142 0.69873641 0.46840327 0.715185  ]\n",
      " [0.90052675 0.38104105 0.02398965 0.88274196 0.03106997 0.34218168\n",
      "  0.59702807 0.57664273 0.50277586 0.92232727]\n",
      " [0.68085976 0.39155541 0.9320475  0.46409869 0.19871865 0.64966798\n",
      "  0.06958064 0.28585307 0.78673122 0.23566904]\n",
      " [0.27460379 0.17976937 0.8253419  0.05340523 0.73975489 0.97706621\n",
      "  0.20201523 0.07656692 0.79659996 0.48798767]\n",
      " [0.71452961 0.50113547 0.69866734 0.09356345 0.22214843 0.42039308\n",
      "  0.35514547 0.15304954 0.32740249 0.79854778]\n",
      " [0.64612391 0.48187855 0.99486463 0.43588611 0.73270418 0.9983485\n",
      "  0.83069575 0.90042035 0.87771702 0.45762928]\n",
      " [0.96646419 0.02753285 0.101415   0.09311026 0.66375371 0.49225724\n",
      "  0.72125997 0.51783386 0.34734778 0.41278145]]\n"
     ]
    }
   ],
   "source": [
    "array = np.random.random((10,10))\n",
    "print(array)"
   ]
  },
  {
   "cell_type": "markdown",
   "metadata": {},
   "source": [
    "# 10.Subtract the mean of each row of a matrix"
   ]
  },
  {
   "cell_type": "code",
   "execution_count": 46,
   "metadata": {},
   "outputs": [
    {
     "name": "stdout",
     "output_type": "stream",
     "text": [
      "[[0.8252571  0.61557726 0.46158463 0.15671099 0.30064852]\n",
      " [0.26359097 0.47667037 0.14487513 0.28939621 0.6668407 ]\n",
      " [0.10530243 0.68730589 0.95850944 0.49214879 0.76980956]\n",
      " [0.95770738 0.91440654 0.70821538 0.49638995 0.7673322 ]\n",
      " [0.86396234 0.06847465 0.73364566 0.93501999 0.65921841]]\n",
      "[[ 0.25251308  0.04283324 -0.11115939 -0.41603303 -0.2720955 ]\n",
      " [-0.30915305 -0.09607365 -0.42786889 -0.28334781  0.09409668]\n",
      " [-0.46744159  0.11456187  0.38576542 -0.08059523  0.19706554]\n",
      " [ 0.38496336  0.34166252  0.13547136 -0.07635407  0.19458818]\n",
      " [ 0.29121832 -0.50426937  0.16090164  0.36227597  0.08647439]]\n"
     ]
    }
   ],
   "source": [
    "mat = np.random.random((5,5))\n",
    "print(mat)\n",
    "mat1 = mat - mat.mean()\n",
    "print(mat1)"
   ]
  },
  {
   "cell_type": "markdown",
   "metadata": {},
   "source": [
    "# 11.Consider a given vector, how to add 1 to each element indexed by a second vector (be careful with repeated indices)? "
   ]
  },
  {
   "cell_type": "code",
   "execution_count": 48,
   "metadata": {},
   "outputs": [
    {
     "name": "stdout",
     "output_type": "stream",
     "text": [
      "[1. 1. 1. 1. 1. 1. 1. 1. 1. 1.]\n",
      "[9 0 5 1 3 7 9 8 5 6 6 8 1 0 0 7 7 6 5 8]\n"
     ]
    }
   ],
   "source": [
    "vec = np.ones(10)\n",
    "mat = np.random.randint(0,len(vec),20)\n",
    "print(vec)\n",
    "print(mat)"
   ]
  },
  {
   "cell_type": "code",
   "execution_count": 49,
   "metadata": {},
   "outputs": [
    {
     "name": "stdout",
     "output_type": "stream",
     "text": [
      "[4. 3. 1. 2. 1. 4. 4. 4. 4. 3.]\n"
     ]
    }
   ],
   "source": [
    "np.add.at(vec, mat, 1)\n",
    "print(vec)"
   ]
  },
  {
   "cell_type": "markdown",
   "metadata": {},
   "source": [
    "# 12.How to get the diagonal of a dot product?"
   ]
  },
  {
   "cell_type": "code",
   "execution_count": 50,
   "metadata": {},
   "outputs": [
    {
     "name": "stdout",
     "output_type": "stream",
     "text": [
      "[[0.80239667 1.23609914 0.84105145 1.15062974 0.9514375 ]\n",
      " [1.15657688 1.46447043 1.03187655 1.44952369 1.52271076]\n",
      " [0.57477117 0.89000162 0.59425655 1.19582059 0.82698764]\n",
      " [0.78828512 1.09963224 0.72622587 1.50701147 1.12062881]\n",
      " [0.62833935 0.76972739 0.59930664 1.26805244 0.99572701]]\n"
     ]
    },
    {
     "data": {
      "text/plain": [
       "array([0.80239667, 1.46447043, 0.59425655, 1.50701147, 0.99572701])"
      ]
     },
     "execution_count": 50,
     "metadata": {},
     "output_type": "execute_result"
    }
   ],
   "source": [
    "mat1 = np.random.random((5,5))\n",
    "mat2 = np.random.random((5,5))\n",
    "print(np.dot(mat1,mat2))\n",
    "np.diag(np.dot(mat1,mat2))"
   ]
  },
  {
   "cell_type": "markdown",
   "metadata": {},
   "source": [
    "# 13.How to find the most frequent value in an array?"
   ]
  },
  {
   "cell_type": "code",
   "execution_count": 55,
   "metadata": {},
   "outputs": [
    {
     "name": "stdout",
     "output_type": "stream",
     "text": [
      "[7 9 6 5 2 0 1 2 5 2 2 1 8 7 9]\n",
      "2\n"
     ]
    }
   ],
   "source": [
    "z = np.random.randint(0,10,15)\n",
    "print(z)\n",
    "print(np.bincount(z).argmax())"
   ]
  },
  {
   "cell_type": "markdown",
   "metadata": {},
   "source": [
    "# 14.How to get the n largest values of an array"
   ]
  },
  {
   "cell_type": "code",
   "execution_count": 59,
   "metadata": {},
   "outputs": [
    {
     "name": "stdout",
     "output_type": "stream",
     "text": [
      "[9990 9991 9992 9993 9994 9995 9996 9997 9998 9999]\n"
     ]
    }
   ],
   "source": [
    "arr = np.arange(10000)\n",
    "n = 10\n",
    "print (arr[np.argsort(arr)[-n:]])"
   ]
  },
  {
   "cell_type": "markdown",
   "metadata": {},
   "source": [
    "# 15.How to create a record array from a regular array?"
   ]
  },
  {
   "cell_type": "code",
   "execution_count": 61,
   "metadata": {},
   "outputs": [
    {
     "name": "stdout",
     "output_type": "stream",
     "text": [
      "[['Python' '2.5' '3']\n",
      " ['MachineLearning' '3.6' '2']]\n",
      "[(b'Python', 2.5, 3) (b'MachineL', 3.6, 2)]\n"
     ]
    }
   ],
   "source": [
    "Z = np.array([(\"Python\", 2.5, 3),(\"MachineLearning\", 3.6, 2)])\n",
    "print(Z)\n",
    "R = np.core.records.fromarrays(Z.T,names='col1, col2, col3',formats = 'S8, f8, i8')\n",
    "print(R)"
   ]
  },
  {
   "cell_type": "code",
   "execution_count": null,
   "metadata": {},
   "outputs": [],
   "source": []
  }
 ],
 "metadata": {
  "kernelspec": {
   "display_name": "Python 3",
   "language": "python",
   "name": "python3"
  },
  "language_info": {
   "codemirror_mode": {
    "name": "ipython",
    "version": 3
   },
   "file_extension": ".py",
   "mimetype": "text/x-python",
   "name": "python",
   "nbconvert_exporter": "python",
   "pygments_lexer": "ipython3",
   "version": "3.7.4"
  }
 },
 "nbformat": 4,
 "nbformat_minor": 2
}
